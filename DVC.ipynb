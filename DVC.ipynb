{
  "nbformat": 4,
  "nbformat_minor": 0,
  "metadata": {
    "colab": {
      "provenance": [],
      "authorship_tag": "ABX9TyO6QK1//jMUJ8fX9hECNCUk",
      "include_colab_link": true
    },
    "kernelspec": {
      "name": "python3",
      "display_name": "Python 3"
    },
    "language_info": {
      "name": "python"
    }
  },
  "cells": [
    {
      "cell_type": "markdown",
      "metadata": {
        "id": "view-in-github",
        "colab_type": "text"
      },
      "source": [
        "<a href=\"https://colab.research.google.com/github/basaanithanaveenkumar/MLOPS/blob/main/DVC.ipynb\" target=\"_parent\"><img src=\"https://colab.research.google.com/assets/colab-badge.svg\" alt=\"Open In Colab\"/></a>"
      ]
    },
    {
      "cell_type": "code",
      "execution_count": 5,
      "metadata": {
        "colab": {
          "base_uri": "https://localhost:8080/"
        },
        "id": "PGHM4JtDTF6G",
        "outputId": "f510f25a-2440-481e-9ad9-244d8e7a8b44"
      },
      "outputs": [
        {
          "output_type": "stream",
          "name": "stdout",
          "text": [
            "fatal: destination path 'example-versioning' already exists and is not an empty directory.\n",
            "/content/example-versioning\n"
          ]
        }
      ],
      "source": [
        "!git clone https://github.com/iterative/example-versioning.git\n",
        "%cd example-versioning"
      ]
    },
    {
      "cell_type": "code",
      "source": [
        "!pwd"
      ],
      "metadata": {
        "colab": {
          "base_uri": "https://localhost:8080/"
        },
        "id": "P6YZQ_-q6PF_",
        "outputId": "d2df2d2c-30b8-4e28-f7c5-fb9730ad8fd0"
      },
      "execution_count": 6,
      "outputs": [
        {
          "output_type": "stream",
          "name": "stdout",
          "text": [
            "/content/example-versioning\n"
          ]
        }
      ]
    },
    {
      "cell_type": "code",
      "source": [
        "!python3 -m venv .env\n",
        "\n",
        "!source .env/bin/activate\n",
        "\n",
        "!pip install -r requirements.txt"
      ],
      "metadata": {
        "colab": {
          "base_uri": "https://localhost:8080/"
        },
        "id": "kT5QDYBETO4L",
        "outputId": "1d779bfb-1f20-4242-87cf-76d7b087c5af"
      },
      "execution_count": 7,
      "outputs": [
        {
          "output_type": "stream",
          "name": "stdout",
          "text": [
            "The virtual environment was not created successfully because ensurepip is not\n",
            "available.  On Debian/Ubuntu systems, you need to install the python3-venv\n",
            "package using the following command.\n",
            "\n",
            "    apt install python3.8-venv\n",
            "\n",
            "You may need to use sudo with that command.  After installing the python3-venv\n",
            "package, recreate your virtual environment.\n",
            "\n",
            "Failing command: ['/content/example-versioning/.env/bin/python3', '-Im', 'ensurepip', '--upgrade', '--default-pip']\n",
            "\n",
            "/bin/bash: .env/bin/activate: No such file or directory\n",
            "Looking in indexes: https://pypi.org/simple, https://us-python.pkg.dev/colab-wheels/public/simple/\n",
            "Requirement already satisfied: pillow in /usr/local/lib/python3.8/dist-packages (from -r requirements.txt (line 1)) (7.1.2)\n",
            "Requirement already satisfied: scipy in /usr/local/lib/python3.8/dist-packages (from -r requirements.txt (line 2)) (1.7.3)\n",
            "Requirement already satisfied: tensorflow<3,>=2 in /usr/local/lib/python3.8/dist-packages (from -r requirements.txt (line 3)) (2.9.2)\n",
            "Requirement already satisfied: tqdm<5,>=4.41.0 in /usr/local/lib/python3.8/dist-packages (from -r requirements.txt (line 4)) (4.64.1)\n",
            "Requirement already satisfied: numpy<1.23.0,>=1.16.5 in /usr/local/lib/python3.8/dist-packages (from scipy->-r requirements.txt (line 2)) (1.21.6)\n",
            "Requirement already satisfied: protobuf<3.20,>=3.9.2 in /usr/local/lib/python3.8/dist-packages (from tensorflow<3,>=2->-r requirements.txt (line 3)) (3.19.6)\n",
            "Requirement already satisfied: typing-extensions>=3.6.6 in /usr/local/lib/python3.8/dist-packages (from tensorflow<3,>=2->-r requirements.txt (line 3)) (4.4.0)\n",
            "Requirement already satisfied: six>=1.12.0 in /usr/local/lib/python3.8/dist-packages (from tensorflow<3,>=2->-r requirements.txt (line 3)) (1.15.0)\n",
            "Requirement already satisfied: gast<=0.4.0,>=0.2.1 in /usr/local/lib/python3.8/dist-packages (from tensorflow<3,>=2->-r requirements.txt (line 3)) (0.4.0)\n",
            "Requirement already satisfied: opt-einsum>=2.3.2 in /usr/local/lib/python3.8/dist-packages (from tensorflow<3,>=2->-r requirements.txt (line 3)) (3.3.0)\n",
            "Requirement already satisfied: keras<2.10.0,>=2.9.0rc0 in /usr/local/lib/python3.8/dist-packages (from tensorflow<3,>=2->-r requirements.txt (line 3)) (2.9.0)\n",
            "Requirement already satisfied: absl-py>=1.0.0 in /usr/local/lib/python3.8/dist-packages (from tensorflow<3,>=2->-r requirements.txt (line 3)) (1.3.0)\n",
            "Requirement already satisfied: keras-preprocessing>=1.1.1 in /usr/local/lib/python3.8/dist-packages (from tensorflow<3,>=2->-r requirements.txt (line 3)) (1.1.2)\n",
            "Requirement already satisfied: h5py>=2.9.0 in /usr/local/lib/python3.8/dist-packages (from tensorflow<3,>=2->-r requirements.txt (line 3)) (3.1.0)\n",
            "Requirement already satisfied: termcolor>=1.1.0 in /usr/local/lib/python3.8/dist-packages (from tensorflow<3,>=2->-r requirements.txt (line 3)) (2.2.0)\n",
            "Requirement already satisfied: astunparse>=1.6.0 in /usr/local/lib/python3.8/dist-packages (from tensorflow<3,>=2->-r requirements.txt (line 3)) (1.6.3)\n",
            "Requirement already satisfied: tensorboard<2.10,>=2.9 in /usr/local/lib/python3.8/dist-packages (from tensorflow<3,>=2->-r requirements.txt (line 3)) (2.9.1)\n",
            "Requirement already satisfied: packaging in /usr/local/lib/python3.8/dist-packages (from tensorflow<3,>=2->-r requirements.txt (line 3)) (21.3)\n",
            "Requirement already satisfied: flatbuffers<2,>=1.12 in /usr/local/lib/python3.8/dist-packages (from tensorflow<3,>=2->-r requirements.txt (line 3)) (1.12)\n",
            "Requirement already satisfied: wrapt>=1.11.0 in /usr/local/lib/python3.8/dist-packages (from tensorflow<3,>=2->-r requirements.txt (line 3)) (1.14.1)\n",
            "Requirement already satisfied: libclang>=13.0.0 in /usr/local/lib/python3.8/dist-packages (from tensorflow<3,>=2->-r requirements.txt (line 3)) (15.0.6.1)\n",
            "Requirement already satisfied: google-pasta>=0.1.1 in /usr/local/lib/python3.8/dist-packages (from tensorflow<3,>=2->-r requirements.txt (line 3)) (0.2.0)\n",
            "Requirement already satisfied: setuptools in /usr/local/lib/python3.8/dist-packages (from tensorflow<3,>=2->-r requirements.txt (line 3)) (57.4.0)\n",
            "Requirement already satisfied: tensorflow-estimator<2.10.0,>=2.9.0rc0 in /usr/local/lib/python3.8/dist-packages (from tensorflow<3,>=2->-r requirements.txt (line 3)) (2.9.0)\n",
            "Requirement already satisfied: tensorflow-io-gcs-filesystem>=0.23.1 in /usr/local/lib/python3.8/dist-packages (from tensorflow<3,>=2->-r requirements.txt (line 3)) (0.29.0)\n",
            "Requirement already satisfied: grpcio<2.0,>=1.24.3 in /usr/local/lib/python3.8/dist-packages (from tensorflow<3,>=2->-r requirements.txt (line 3)) (1.51.1)\n",
            "Requirement already satisfied: wheel<1.0,>=0.23.0 in /usr/local/lib/python3.8/dist-packages (from astunparse>=1.6.0->tensorflow<3,>=2->-r requirements.txt (line 3)) (0.38.4)\n",
            "Requirement already satisfied: tensorboard-data-server<0.7.0,>=0.6.0 in /usr/local/lib/python3.8/dist-packages (from tensorboard<2.10,>=2.9->tensorflow<3,>=2->-r requirements.txt (line 3)) (0.6.1)\n",
            "Requirement already satisfied: google-auth<3,>=1.6.3 in /usr/local/lib/python3.8/dist-packages (from tensorboard<2.10,>=2.9->tensorflow<3,>=2->-r requirements.txt (line 3)) (2.16.0)\n",
            "Requirement already satisfied: markdown>=2.6.8 in /usr/local/lib/python3.8/dist-packages (from tensorboard<2.10,>=2.9->tensorflow<3,>=2->-r requirements.txt (line 3)) (3.4.1)\n",
            "Requirement already satisfied: tensorboard-plugin-wit>=1.6.0 in /usr/local/lib/python3.8/dist-packages (from tensorboard<2.10,>=2.9->tensorflow<3,>=2->-r requirements.txt (line 3)) (1.8.1)\n",
            "Requirement already satisfied: requests<3,>=2.21.0 in /usr/local/lib/python3.8/dist-packages (from tensorboard<2.10,>=2.9->tensorflow<3,>=2->-r requirements.txt (line 3)) (2.25.1)\n",
            "Requirement already satisfied: werkzeug>=1.0.1 in /usr/local/lib/python3.8/dist-packages (from tensorboard<2.10,>=2.9->tensorflow<3,>=2->-r requirements.txt (line 3)) (1.0.1)\n",
            "Requirement already satisfied: google-auth-oauthlib<0.5,>=0.4.1 in /usr/local/lib/python3.8/dist-packages (from tensorboard<2.10,>=2.9->tensorflow<3,>=2->-r requirements.txt (line 3)) (0.4.6)\n",
            "Requirement already satisfied: pyparsing!=3.0.5,>=2.0.2 in /usr/local/lib/python3.8/dist-packages (from packaging->tensorflow<3,>=2->-r requirements.txt (line 3)) (3.0.9)\n",
            "Requirement already satisfied: rsa<5,>=3.1.4 in /usr/local/lib/python3.8/dist-packages (from google-auth<3,>=1.6.3->tensorboard<2.10,>=2.9->tensorflow<3,>=2->-r requirements.txt (line 3)) (4.9)\n",
            "Requirement already satisfied: cachetools<6.0,>=2.0.0 in /usr/local/lib/python3.8/dist-packages (from google-auth<3,>=1.6.3->tensorboard<2.10,>=2.9->tensorflow<3,>=2->-r requirements.txt (line 3)) (5.2.1)\n",
            "Requirement already satisfied: pyasn1-modules>=0.2.1 in /usr/local/lib/python3.8/dist-packages (from google-auth<3,>=1.6.3->tensorboard<2.10,>=2.9->tensorflow<3,>=2->-r requirements.txt (line 3)) (0.2.8)\n",
            "Requirement already satisfied: requests-oauthlib>=0.7.0 in /usr/local/lib/python3.8/dist-packages (from google-auth-oauthlib<0.5,>=0.4.1->tensorboard<2.10,>=2.9->tensorflow<3,>=2->-r requirements.txt (line 3)) (1.3.1)\n",
            "Requirement already satisfied: importlib-metadata>=4.4 in /usr/local/lib/python3.8/dist-packages (from markdown>=2.6.8->tensorboard<2.10,>=2.9->tensorflow<3,>=2->-r requirements.txt (line 3)) (6.0.0)\n",
            "Requirement already satisfied: idna<3,>=2.5 in /usr/local/lib/python3.8/dist-packages (from requests<3,>=2.21.0->tensorboard<2.10,>=2.9->tensorflow<3,>=2->-r requirements.txt (line 3)) (2.10)\n",
            "Requirement already satisfied: certifi>=2017.4.17 in /usr/local/lib/python3.8/dist-packages (from requests<3,>=2.21.0->tensorboard<2.10,>=2.9->tensorflow<3,>=2->-r requirements.txt (line 3)) (2022.12.7)\n",
            "Requirement already satisfied: chardet<5,>=3.0.2 in /usr/local/lib/python3.8/dist-packages (from requests<3,>=2.21.0->tensorboard<2.10,>=2.9->tensorflow<3,>=2->-r requirements.txt (line 3)) (4.0.0)\n",
            "Requirement already satisfied: urllib3<1.27,>=1.21.1 in /usr/local/lib/python3.8/dist-packages (from requests<3,>=2.21.0->tensorboard<2.10,>=2.9->tensorflow<3,>=2->-r requirements.txt (line 3)) (1.24.3)\n",
            "Requirement already satisfied: zipp>=0.5 in /usr/local/lib/python3.8/dist-packages (from importlib-metadata>=4.4->markdown>=2.6.8->tensorboard<2.10,>=2.9->tensorflow<3,>=2->-r requirements.txt (line 3)) (3.11.0)\n",
            "Requirement already satisfied: pyasn1<0.5.0,>=0.4.6 in /usr/local/lib/python3.8/dist-packages (from pyasn1-modules>=0.2.1->google-auth<3,>=1.6.3->tensorboard<2.10,>=2.9->tensorflow<3,>=2->-r requirements.txt (line 3)) (0.4.8)\n",
            "Requirement already satisfied: oauthlib>=3.0.0 in /usr/local/lib/python3.8/dist-packages (from requests-oauthlib>=0.7.0->google-auth-oauthlib<0.5,>=0.4.1->tensorboard<2.10,>=2.9->tensorflow<3,>=2->-r requirements.txt (line 3)) (3.2.2)\n"
          ]
        }
      ]
    },
    {
      "cell_type": "code",
      "source": [
        "# optimal installation\n",
        "!pip install dvc"
      ],
      "metadata": {
        "id": "vapd8K2GTXg9",
        "colab": {
          "base_uri": "https://localhost:8080/"
        },
        "outputId": "e486f5ea-b05b-45ad-f4e3-9aa1f28fd66c"
      },
      "execution_count": 9,
      "outputs": [
        {
          "output_type": "stream",
          "name": "stdout",
          "text": [
            "Looking in indexes: https://pypi.org/simple, https://us-python.pkg.dev/colab-wheels/public/simple/\n",
            "Collecting dvc\n",
            "  Downloading dvc-2.43.1-py3-none-any.whl (407 kB)\n",
            "\u001b[2K     \u001b[90m━━━━━━━━━━━━━━━━━━━━━━━━━━━━━━━━━━━━━━\u001b[0m \u001b[32m407.0/407.0 KB\u001b[0m \u001b[31m12.2 MB/s\u001b[0m eta \u001b[36m0:00:00\u001b[0m\n",
            "\u001b[?25hCollecting pygtrie>=2.3.2\n",
            "  Downloading pygtrie-2.5.0-py3-none-any.whl (25 kB)\n",
            "Collecting flatten-dict<1,>=0.4.1\n",
            "  Downloading flatten_dict-0.4.2-py2.py3-none-any.whl (9.7 kB)\n",
            "Collecting dvc-data==0.35.1\n",
            "  Downloading dvc_data-0.35.1-py3-none-any.whl (56 kB)\n",
            "\u001b[2K     \u001b[90m━━━━━━━━━━━━━━━━━━━━━━━━━━━━━━━━━━━━━━━━\u001b[0m \u001b[32m56.9/56.9 KB\u001b[0m \u001b[31m7.4 MB/s\u001b[0m eta \u001b[36m0:00:00\u001b[0m\n",
            "\u001b[?25hRequirement already satisfied: packaging>=19.0 in /usr/local/lib/python3.8/dist-packages (from dvc) (21.3)\n",
            "Collecting dvc-http\n",
            "  Downloading dvc_http-2.30.1-py3-none-any.whl (12 kB)\n",
            "Collecting pathspec>=0.10.3\n",
            "  Downloading pathspec-0.11.0-py3-none-any.whl (29 kB)\n",
            "Collecting hydra-core>=1.1.0\n",
            "  Downloading hydra_core-1.3.1-py3-none-any.whl (154 kB)\n",
            "\u001b[2K     \u001b[90m━━━━━━━━━━━━━━━━━━━━━━━━━━━━━━━━━━━━━━━\u001b[0m \u001b[32m154.1/154.1 KB\u001b[0m \u001b[31m9.2 MB/s\u001b[0m eta \u001b[36m0:00:00\u001b[0m\n",
            "\u001b[?25hCollecting configobj>=5.0.6\n",
            "  Downloading configobj-5.0.8-py2.py3-none-any.whl (36 kB)\n",
            "Collecting scmrepo==0.1.6\n",
            "  Downloading scmrepo-0.1.6-py3-none-any.whl (48 kB)\n",
            "\u001b[2K     \u001b[90m━━━━━━━━━━━━━━━━━━━━━━━━━━━━━━━━━━━━━━━━\u001b[0m \u001b[32m48.6/48.6 KB\u001b[0m \u001b[31m5.1 MB/s\u001b[0m eta \u001b[36m0:00:00\u001b[0m\n",
            "\u001b[?25hRequirement already satisfied: networkx>=2.5 in /usr/local/lib/python3.8/dist-packages (from dvc) (3.0)\n",
            "Requirement already satisfied: pyparsing>=2.4.7 in /usr/local/lib/python3.8/dist-packages (from dvc) (3.0.9)\n",
            "Collecting funcy>=1.14\n",
            "  Downloading funcy-1.18-py2.py3-none-any.whl (33 kB)\n",
            "Requirement already satisfied: tqdm<5,>=4.63.1 in /usr/local/lib/python3.8/dist-packages (from dvc) (4.64.1)\n",
            "Collecting psutil>=5.8.0\n",
            "  Downloading psutil-5.9.4-cp36-abi3-manylinux_2_12_x86_64.manylinux2010_x86_64.manylinux_2_17_x86_64.manylinux2014_x86_64.whl (280 kB)\n",
            "\u001b[2K     \u001b[90m━━━━━━━━━━━━━━━━━━━━━━━━━━━━━━━━━━━━━━\u001b[0m \u001b[32m280.2/280.2 KB\u001b[0m \u001b[31m20.8 MB/s\u001b[0m eta \u001b[36m0:00:00\u001b[0m\n",
            "\u001b[?25hCollecting shtab<2,>=1.3.4\n",
            "  Downloading shtab-1.5.8-py2.py3-none-any.whl (13 kB)\n",
            "Collecting zc.lockfile>=1.2.1\n",
            "  Downloading zc.lockfile-2.0-py2.py3-none-any.whl (9.7 kB)\n",
            "Collecting dpath<3,>=2.0.2\n",
            "  Downloading dpath-2.1.4-py3-none-any.whl (17 kB)\n",
            "Requirement already satisfied: typing-extensions>=3.7.4 in /usr/local/lib/python3.8/dist-packages (from dvc) (4.4.0)\n",
            "Collecting dvc-render==0.0.17\n",
            "  Downloading dvc_render-0.0.17-py3-none-any.whl (18 kB)\n",
            "Collecting grandalf<1,>=0.7\n",
            "  Downloading grandalf-0.8-py3-none-any.whl (41 kB)\n",
            "\u001b[2K     \u001b[90m━━━━━━━━━━━━━━━━━━━━━━━━━━━━━━━━━━━━━━━━\u001b[0m \u001b[32m41.8/41.8 KB\u001b[0m \u001b[31m4.7 MB/s\u001b[0m eta \u001b[36m0:00:00\u001b[0m\n",
            "\u001b[?25hRequirement already satisfied: tabulate>=0.8.7 in /usr/local/lib/python3.8/dist-packages (from dvc) (0.8.10)\n",
            "Collecting distro>=1.3.0\n",
            "  Downloading distro-1.8.0-py3-none-any.whl (20 kB)\n",
            "Collecting tomlkit>=0.11.1\n",
            "  Downloading tomlkit-0.11.6-py3-none-any.whl (35 kB)\n",
            "Collecting rich>=10.13.0\n",
            "  Downloading rich-13.3.1-py3-none-any.whl (239 kB)\n",
            "\u001b[2K     \u001b[90m━━━━━━━━━━━━━━━━━━━━━━━━━━━━━━━━━━━━━━\u001b[0m \u001b[32m239.0/239.0 KB\u001b[0m \u001b[31m20.0 MB/s\u001b[0m eta \u001b[36m0:00:00\u001b[0m\n",
            "\u001b[?25hRequirement already satisfied: appdirs>=1.4.3 in /usr/local/lib/python3.8/dist-packages (from dvc) (1.4.4)\n",
            "Collecting iterative-telemetry==0.0.6\n",
            "  Downloading iterative_telemetry-0.0.6-py3-none-any.whl (10 kB)\n",
            "Collecting flufl.lock>=5\n",
            "  Downloading flufl.lock-7.1.1-py3-none-any.whl (11 kB)\n",
            "Collecting shortuuid>=0.5.0\n",
            "  Downloading shortuuid-1.0.11-py3-none-any.whl (10 kB)\n",
            "Requirement already satisfied: requests>=2.22.0 in /usr/local/lib/python3.8/dist-packages (from dvc) (2.25.1)\n",
            "Collecting dvc-task==0.1.11\n",
            "  Downloading dvc_task-0.1.11-py3-none-any.whl (23 kB)\n",
            "Collecting colorama>=0.3.9\n",
            "  Downloading colorama-0.4.6-py2.py3-none-any.whl (25 kB)\n",
            "Collecting dvc-studio-client>=0.1.1\n",
            "  Downloading dvc_studio_client-0.3.0-py3-none-any.whl (10.0 kB)\n",
            "Collecting voluptuous>=0.11.7\n",
            "  Downloading voluptuous-0.13.1-py3-none-any.whl (29 kB)\n",
            "Requirement already satisfied: pydot>=1.2.4 in /usr/local/lib/python3.8/dist-packages (from dvc) (1.3.0)\n",
            "Collecting ruamel.yaml>=0.17.11\n",
            "  Downloading ruamel.yaml-0.17.21-py3-none-any.whl (109 kB)\n",
            "\u001b[2K     \u001b[90m━━━━━━━━━━━━━━━━━━━━━━━━━━━━━━━━━━━━━━\u001b[0m \u001b[32m109.5/109.5 KB\u001b[0m \u001b[31m12.7 MB/s\u001b[0m eta \u001b[36m0:00:00\u001b[0m\n",
            "\u001b[?25hCollecting dvclive>=1.2.2\n",
            "  Downloading dvclive-1.3.3-py3-none-any.whl (31 kB)\n",
            "Requirement already satisfied: importlib-resources>=5.2.2 in /usr/local/lib/python3.8/dist-packages (from dvc) (5.10.2)\n",
            "Collecting dvc-objects==0.19.0\n",
            "  Downloading dvc_objects-0.19.0-py3-none-any.whl (36 kB)\n",
            "Collecting diskcache>=5.2.1\n",
            "  Downloading diskcache-5.4.0-py3-none-any.whl (44 kB)\n",
            "\u001b[2K     \u001b[90m━━━━━━━━━━━━━━━━━━━━━━━━━━━━━━━━━━━━━━━━\u001b[0m \u001b[32m45.0/45.0 KB\u001b[0m \u001b[31m5.1 MB/s\u001b[0m eta \u001b[36m0:00:00\u001b[0m\n",
            "\u001b[?25hCollecting dictdiffer>=0.8.1\n",
            "  Downloading dictdiffer-0.9.0-py2.py3-none-any.whl (16 kB)\n",
            "Collecting nanotime>=0.5.2\n",
            "  Downloading nanotime-0.5.2.tar.gz (3.2 kB)\n",
            "  Preparing metadata (setup.py) ... \u001b[?25l\u001b[?25hdone\n",
            "Collecting sqltrie==0.0.26\n",
            "  Downloading sqltrie-0.0.26-py3-none-any.whl (16 kB)\n",
            "Requirement already satisfied: attrs>=21.3.0 in /usr/local/lib/python3.8/dist-packages (from dvc-data==0.35.1->dvc) (22.2.0)\n",
            "Collecting kombu<6,>=5.2.0\n",
            "  Downloading kombu-5.2.4-py3-none-any.whl (189 kB)\n",
            "\u001b[2K     \u001b[90m━━━━━━━━━━━━━━━━━━━━━━━━━━━━━━━━━━━━━━\u001b[0m \u001b[32m189.2/189.2 KB\u001b[0m \u001b[31m17.1 MB/s\u001b[0m eta \u001b[36m0:00:00\u001b[0m\n",
            "\u001b[?25hCollecting celery<6,>=5.2.0\n",
            "  Downloading celery-5.2.7-py3-none-any.whl (405 kB)\n",
            "\u001b[2K     \u001b[90m━━━━━━━━━━━━━━━━━━━━━━━━━━━━━━━━━━━━━━\u001b[0m \u001b[32m405.6/405.6 KB\u001b[0m \u001b[31m29.3 MB/s\u001b[0m eta \u001b[36m0:00:00\u001b[0m\n",
            "\u001b[?25hRequirement already satisfied: filelock in /usr/local/lib/python3.8/dist-packages (from iterative-telemetry==0.0.6->dvc) (3.9.0)\n",
            "Collecting dulwich>=0.20.46\n",
            "  Downloading dulwich-0.21.2-cp38-cp38-manylinux_2_17_x86_64.manylinux2014_x86_64.whl (508 kB)\n",
            "\u001b[2K     \u001b[90m━━━━━━━━━━━━━━━━━━━━━━━━━━━━━━━━━━━━━━\u001b[0m \u001b[32m508.4/508.4 KB\u001b[0m \u001b[31m40.6 MB/s\u001b[0m eta \u001b[36m0:00:00\u001b[0m\n",
            "\u001b[?25hCollecting asyncssh<3,>=2.7.1\n",
            "  Downloading asyncssh-2.13.0-py3-none-any.whl (348 kB)\n",
            "\u001b[2K     \u001b[90m━━━━━━━━━━━━━━━━━━━━━━━━━━━━━━━━━━━━━━\u001b[0m \u001b[32m348.3/348.3 KB\u001b[0m \u001b[31m29.7 MB/s\u001b[0m eta \u001b[36m0:00:00\u001b[0m\n",
            "\u001b[?25hRequirement already satisfied: fsspec>=2021.7.0 in /usr/local/lib/python3.8/dist-packages (from scmrepo==0.1.6->dvc) (2022.11.0)\n",
            "Collecting gitpython>3\n",
            "  Downloading GitPython-3.1.30-py3-none-any.whl (184 kB)\n",
            "\u001b[2K     \u001b[90m━━━━━━━━━━━━━━━━━━━━━━━━━━━━━━━━━━━━━━\u001b[0m \u001b[32m184.0/184.0 KB\u001b[0m \u001b[31m20.5 MB/s\u001b[0m eta \u001b[36m0:00:00\u001b[0m\n",
            "\u001b[?25hCollecting pygit2>=1.10.0\n",
            "  Downloading pygit2-1.11.1-cp38-cp38-manylinux_2_24_x86_64.whl (3.7 MB)\n",
            "\u001b[2K     \u001b[90m━━━━━━━━━━━━━━━━━━━━━━━━━━━━━━━━━━━━━━━━\u001b[0m \u001b[32m3.7/3.7 MB\u001b[0m \u001b[31m67.0 MB/s\u001b[0m eta \u001b[36m0:00:00\u001b[0m\n",
            "\u001b[?25hCollecting orjson\n",
            "  Downloading orjson-3.8.5-cp38-cp38-manylinux_2_28_x86_64.whl (140 kB)\n",
            "\u001b[2K     \u001b[90m━━━━━━━━━━━━━━━━━━━━━━━━━━━━━━━━━━━━━━━\u001b[0m \u001b[32m140.6/140.6 KB\u001b[0m \u001b[31m8.3 MB/s\u001b[0m eta \u001b[36m0:00:00\u001b[0m\n",
            "\u001b[?25hRequirement already satisfied: six in /usr/local/lib/python3.8/dist-packages (from configobj>=5.0.6->dvc) (1.15.0)\n",
            "Collecting atpublic>=2.3\n",
            "  Downloading atpublic-3.1.1-py3-none-any.whl (4.8 kB)\n",
            "Collecting omegaconf<2.4,>=2.2\n",
            "  Downloading omegaconf-2.3.0-py3-none-any.whl (79 kB)\n",
            "\u001b[2K     \u001b[90m━━━━━━━━━━━━━━━━━━━━━━━━━━━━━━━━━━━━━━━━\u001b[0m \u001b[32m79.5/79.5 KB\u001b[0m \u001b[31m10.2 MB/s\u001b[0m eta \u001b[36m0:00:00\u001b[0m\n",
            "\u001b[?25hCollecting antlr4-python3-runtime==4.9.*\n",
            "  Downloading antlr4-python3-runtime-4.9.3.tar.gz (117 kB)\n",
            "\u001b[2K     \u001b[90m━━━━━━━━━━━━━━━━━━━━━━━━━━━━━━━━━━━━━━\u001b[0m \u001b[32m117.0/117.0 KB\u001b[0m \u001b[31m14.3 MB/s\u001b[0m eta \u001b[36m0:00:00\u001b[0m\n",
            "\u001b[?25h  Preparing metadata (setup.py) ... \u001b[?25l\u001b[?25hdone\n",
            "Requirement already satisfied: zipp>=3.1.0 in /usr/local/lib/python3.8/dist-packages (from importlib-resources>=5.2.2->dvc) (3.11.0)\n",
            "Requirement already satisfied: urllib3<1.27,>=1.21.1 in /usr/local/lib/python3.8/dist-packages (from requests>=2.22.0->dvc) (1.24.3)\n",
            "Requirement already satisfied: idna<3,>=2.5 in /usr/local/lib/python3.8/dist-packages (from requests>=2.22.0->dvc) (2.10)\n",
            "Requirement already satisfied: certifi>=2017.4.17 in /usr/local/lib/python3.8/dist-packages (from requests>=2.22.0->dvc) (2022.12.7)\n",
            "Requirement already satisfied: chardet<5,>=3.0.2 in /usr/local/lib/python3.8/dist-packages (from requests>=2.22.0->dvc) (4.0.0)\n",
            "Collecting pygments<3.0.0,>=2.14.0\n",
            "  Downloading Pygments-2.14.0-py3-none-any.whl (1.1 MB)\n",
            "\u001b[2K     \u001b[90m━━━━━━━━━━━━━━━━━━━━━━━━━━━━━━━━━━━━━━━━\u001b[0m \u001b[32m1.1/1.1 MB\u001b[0m \u001b[31m50.0 MB/s\u001b[0m eta \u001b[36m0:00:00\u001b[0m\n",
            "\u001b[?25hCollecting markdown-it-py<3.0.0,>=2.1.0\n",
            "  Downloading markdown_it_py-2.1.0-py3-none-any.whl (84 kB)\n",
            "\u001b[2K     \u001b[90m━━━━━━━━━━━━━━━━━━━━━━━━━━━━━━━━━━━━━━━━\u001b[0m \u001b[32m84.5/84.5 KB\u001b[0m \u001b[31m10.8 MB/s\u001b[0m eta \u001b[36m0:00:00\u001b[0m\n",
            "\u001b[?25hCollecting ruamel.yaml.clib>=0.2.6\n",
            "  Downloading ruamel.yaml.clib-0.2.7-cp38-cp38-manylinux_2_17_x86_64.manylinux2014_x86_64.manylinux_2_24_x86_64.whl (555 kB)\n",
            "\u001b[2K     \u001b[90m━━━━━━━━━━━━━━━━━━━━━━━━━━━━━━━━━━━━━━\u001b[0m \u001b[32m555.3/555.3 KB\u001b[0m \u001b[31m46.4 MB/s\u001b[0m eta \u001b[36m0:00:00\u001b[0m\n",
            "\u001b[?25hRequirement already satisfied: setuptools in /usr/local/lib/python3.8/dist-packages (from zc.lockfile>=1.2.1->dvc) (57.4.0)\n",
            "Collecting aiohttp-retry>=2.5.0\n",
            "  Downloading aiohttp_retry-2.8.3-py3-none-any.whl (9.8 kB)\n",
            "Requirement already satisfied: aiohttp in /usr/local/lib/python3.8/dist-packages (from aiohttp-retry>=2.5.0->dvc-http->dvc) (3.8.3)\n",
            "Collecting cryptography>=3.1\n",
            "  Downloading cryptography-39.0.0-cp36-abi3-manylinux_2_28_x86_64.whl (4.2 MB)\n",
            "\u001b[2K     \u001b[90m━━━━━━━━━━━━━━━━━━━━━━━━━━━━━━━━━━━━━━━━\u001b[0m \u001b[32m4.2/4.2 MB\u001b[0m \u001b[31m81.3 MB/s\u001b[0m eta \u001b[36m0:00:00\u001b[0m\n",
            "\u001b[?25hCollecting click-plugins>=1.1.1\n",
            "  Downloading click_plugins-1.1.1-py2.py3-none-any.whl (7.5 kB)\n",
            "Collecting billiard<4.0,>=3.6.4.0\n",
            "  Downloading billiard-3.6.4.0-py3-none-any.whl (89 kB)\n",
            "\u001b[2K     \u001b[90m━━━━━━━━━━━━━━━━━━━━━━━━━━━━━━━━━━━━━━━━\u001b[0m \u001b[32m89.5/89.5 KB\u001b[0m \u001b[31m11.2 MB/s\u001b[0m eta \u001b[36m0:00:00\u001b[0m\n",
            "\u001b[?25hCollecting click-didyoumean>=0.0.3\n",
            "  Downloading click_didyoumean-0.3.0-py3-none-any.whl (2.7 kB)\n",
            "Requirement already satisfied: pytz>=2021.3 in /usr/local/lib/python3.8/dist-packages (from celery<6,>=5.2.0->dvc-task==0.1.11->dvc) (2022.7)\n",
            "Collecting click<9.0,>=8.0.3\n",
            "  Downloading click-8.1.3-py3-none-any.whl (96 kB)\n",
            "\u001b[2K     \u001b[90m━━━━━━━━━━━━━━━━━━━━━━━━━━━━━━━━━━━━━━━━\u001b[0m \u001b[32m96.6/96.6 KB\u001b[0m \u001b[31m9.2 MB/s\u001b[0m eta \u001b[36m0:00:00\u001b[0m\n",
            "\u001b[?25hCollecting click-repl>=0.2.0\n",
            "  Downloading click_repl-0.2.0-py3-none-any.whl (5.2 kB)\n",
            "Collecting vine<6.0,>=5.0.0\n",
            "  Downloading vine-5.0.0-py2.py3-none-any.whl (9.4 kB)\n",
            "Collecting urllib3<1.27,>=1.21.1\n",
            "  Downloading urllib3-1.26.14-py2.py3-none-any.whl (140 kB)\n",
            "\u001b[2K     \u001b[90m━━━━━━━━━━━━━━━━━━━━━━━━━━━━━━━━━━━━━━\u001b[0m \u001b[32m140.6/140.6 KB\u001b[0m \u001b[31m16.8 MB/s\u001b[0m eta \u001b[36m0:00:00\u001b[0m\n",
            "\u001b[?25hCollecting gitdb<5,>=4.0.1\n",
            "  Downloading gitdb-4.0.10-py3-none-any.whl (62 kB)\n",
            "\u001b[2K     \u001b[90m━━━━━━━━━━━━━━━━━━━━━━━━━━━━━━━━━━━━━━━━\u001b[0m \u001b[32m62.7/62.7 KB\u001b[0m \u001b[31m8.1 MB/s\u001b[0m eta \u001b[36m0:00:00\u001b[0m\n",
            "\u001b[?25hCollecting amqp<6.0.0,>=5.0.9\n",
            "  Downloading amqp-5.1.1-py3-none-any.whl (50 kB)\n",
            "\u001b[2K     \u001b[90m━━━━━━━━━━━━━━━━━━━━━━━━━━━━━━━━━━━━━━━━\u001b[0m \u001b[32m50.8/50.8 KB\u001b[0m \u001b[31m6.1 MB/s\u001b[0m eta \u001b[36m0:00:00\u001b[0m\n",
            "\u001b[?25hCollecting mdurl~=0.1\n",
            "  Downloading mdurl-0.1.2-py3-none-any.whl (10.0 kB)\n",
            "Requirement already satisfied: PyYAML>=5.1.0 in /usr/local/lib/python3.8/dist-packages (from omegaconf<2.4,>=2.2->hydra-core>=1.1.0->dvc) (6.0)\n",
            "Requirement already satisfied: cffi>=1.9.1 in /usr/local/lib/python3.8/dist-packages (from pygit2>=1.10.0->scmrepo==0.1.6->dvc) (1.15.1)\n",
            "Requirement already satisfied: aiosignal>=1.1.2 in /usr/local/lib/python3.8/dist-packages (from aiohttp->aiohttp-retry>=2.5.0->dvc-http->dvc) (1.3.1)\n",
            "Requirement already satisfied: multidict<7.0,>=4.5 in /usr/local/lib/python3.8/dist-packages (from aiohttp->aiohttp-retry>=2.5.0->dvc-http->dvc) (6.0.4)\n",
            "Requirement already satisfied: async-timeout<5.0,>=4.0.0a3 in /usr/local/lib/python3.8/dist-packages (from aiohttp->aiohttp-retry>=2.5.0->dvc-http->dvc) (4.0.2)\n",
            "Requirement already satisfied: yarl<2.0,>=1.0 in /usr/local/lib/python3.8/dist-packages (from aiohttp->aiohttp-retry>=2.5.0->dvc-http->dvc) (1.8.2)\n",
            "Requirement already satisfied: charset-normalizer<3.0,>=2.0 in /usr/local/lib/python3.8/dist-packages (from aiohttp->aiohttp-retry>=2.5.0->dvc-http->dvc) (2.1.1)\n",
            "Requirement already satisfied: frozenlist>=1.1.1 in /usr/local/lib/python3.8/dist-packages (from aiohttp->aiohttp-retry>=2.5.0->dvc-http->dvc) (1.3.3)\n",
            "Requirement already satisfied: pycparser in /usr/local/lib/python3.8/dist-packages (from cffi>=1.9.1->pygit2>=1.10.0->scmrepo==0.1.6->dvc) (2.21)\n",
            "Requirement already satisfied: prompt-toolkit in /usr/local/lib/python3.8/dist-packages (from click-repl>=0.2.0->celery<6,>=5.2.0->dvc-task==0.1.11->dvc) (2.0.10)\n",
            "Collecting smmap<6,>=3.0.1\n",
            "  Downloading smmap-5.0.0-py3-none-any.whl (24 kB)\n",
            "Requirement already satisfied: wcwidth in /usr/local/lib/python3.8/dist-packages (from prompt-toolkit->click-repl>=0.2.0->celery<6,>=5.2.0->dvc-task==0.1.11->dvc) (0.2.5)\n",
            "Building wheels for collected packages: antlr4-python3-runtime, nanotime\n",
            "  Building wheel for antlr4-python3-runtime (setup.py) ... \u001b[?25l\u001b[?25hdone\n",
            "  Created wheel for antlr4-python3-runtime: filename=antlr4_python3_runtime-4.9.3-py3-none-any.whl size=144575 sha256=f3afea1461d1f989cdf7bea57181e10e8ffc72725756956d6990ff1db7f95153\n",
            "  Stored in directory: /root/.cache/pip/wheels/b1/a3/c2/6df046c09459b73cc9bb6c4401b0be6c47048baf9a1617c485\n",
            "  Building wheel for nanotime (setup.py) ... \u001b[?25l\u001b[?25hdone\n",
            "  Created wheel for nanotime: filename=nanotime-0.5.2-py3-none-any.whl size=2440 sha256=716532c5e57de143ec24f4e8d1e0e743fbca812c4e43f945e9aabf358d41f587\n",
            "  Stored in directory: /root/.cache/pip/wheels/59/72/23/ea2daa0727a9f7824c0656b73c1f3d8d13f5327729eadb7084\n",
            "Successfully built antlr4-python3-runtime nanotime\n",
            "Installing collected packages: voluptuous, pygtrie, nanotime, funcy, dictdiffer, billiard, antlr4-python3-runtime, zc.lockfile, vine, urllib3, tomlkit, smmap, shtab, shortuuid, ruamel.yaml.clib, pygments, psutil, pathspec, orjson, omegaconf, mdurl, grandalf, flatten-dict, dvc-render, dpath, distro, diskcache, configobj, colorama, click, atpublic, sqltrie, ruamel.yaml, pygit2, markdown-it-py, hydra-core, gitdb, flufl.lock, dvc-objects, dulwich, cryptography, click-repl, click-plugins, click-didyoumean, amqp, rich, kombu, iterative-telemetry, gitpython, dvc-data, asyncssh, aiohttp-retry, scmrepo, dvc-studio-client, celery, dvclive, dvc-task, dvc-http, dvc\n",
            "  Attempting uninstall: urllib3\n",
            "    Found existing installation: urllib3 1.24.3\n",
            "    Uninstalling urllib3-1.24.3:\n",
            "      Successfully uninstalled urllib3-1.24.3\n",
            "  Attempting uninstall: pygments\n",
            "    Found existing installation: Pygments 2.6.1\n",
            "    Uninstalling Pygments-2.6.1:\n",
            "      Successfully uninstalled Pygments-2.6.1\n",
            "  Attempting uninstall: psutil\n",
            "    Found existing installation: psutil 5.4.8\n",
            "    Uninstalling psutil-5.4.8:\n",
            "      Successfully uninstalled psutil-5.4.8\n",
            "  Attempting uninstall: click\n",
            "    Found existing installation: click 7.1.2\n",
            "    Uninstalling click-7.1.2:\n",
            "      Successfully uninstalled click-7.1.2\n",
            "\u001b[31mERROR: pip's dependency resolver does not currently take into account all the packages that are installed. This behaviour is the source of the following dependency conflicts.\n",
            "ipython 7.9.0 requires jedi>=0.10, which is not installed.\n",
            "flask 1.1.4 requires click<8.0,>=5.1, but you have click 8.1.3 which is incompatible.\u001b[0m\u001b[31m\n",
            "\u001b[0mSuccessfully installed aiohttp-retry-2.8.3 amqp-5.1.1 antlr4-python3-runtime-4.9.3 asyncssh-2.13.0 atpublic-3.1.1 billiard-3.6.4.0 celery-5.2.7 click-8.1.3 click-didyoumean-0.3.0 click-plugins-1.1.1 click-repl-0.2.0 colorama-0.4.6 configobj-5.0.8 cryptography-39.0.0 dictdiffer-0.9.0 diskcache-5.4.0 distro-1.8.0 dpath-2.1.4 dulwich-0.21.2 dvc-2.43.1 dvc-data-0.35.1 dvc-http-2.30.1 dvc-objects-0.19.0 dvc-render-0.0.17 dvc-studio-client-0.3.0 dvc-task-0.1.11 dvclive-1.3.3 flatten-dict-0.4.2 flufl.lock-7.1.1 funcy-1.18 gitdb-4.0.10 gitpython-3.1.30 grandalf-0.8 hydra-core-1.3.1 iterative-telemetry-0.0.6 kombu-5.2.4 markdown-it-py-2.1.0 mdurl-0.1.2 nanotime-0.5.2 omegaconf-2.3.0 orjson-3.8.5 pathspec-0.11.0 psutil-5.9.4 pygit2-1.11.1 pygments-2.14.0 pygtrie-2.5.0 rich-13.3.1 ruamel.yaml-0.17.21 ruamel.yaml.clib-0.2.7 scmrepo-0.1.6 shortuuid-1.0.11 shtab-1.5.8 smmap-5.0.0 sqltrie-0.0.26 tomlkit-0.11.6 urllib3-1.26.14 vine-5.0.0 voluptuous-0.13.1 zc.lockfile-2.0\n"
          ]
        }
      ]
    },
    {
      "cell_type": "code",
      "source": [
        "# initilize DVC\n",
        "%cd /content/\n",
        "! git clone https://github.com/basaanithanaveenkumar/MLOPS.git\n",
        "%cd MLOPS\n",
        "!mkdir dev\n",
        "%cd dev\n",
        "!pwd\n",
        "!git init\n",
        "!dvc init"
      ],
      "metadata": {
        "colab": {
          "base_uri": "https://localhost:8080/"
        },
        "id": "FDfcoYng-kCC",
        "outputId": "97cc067a-f71c-4a5b-b3a4-6af1416733aa"
      },
      "execution_count": 35,
      "outputs": [
        {
          "output_type": "stream",
          "name": "stdout",
          "text": [
            "/content\n",
            "Cloning into 'MLOPS'...\n",
            "remote: Enumerating objects: 7, done.\u001b[K\n",
            "remote: Counting objects: 100% (7/7), done.\u001b[K\n",
            "remote: Compressing objects: 100% (6/6), done.\u001b[K\n",
            "remote: Total 7 (delta 1), reused 0 (delta 0), pack-reused 0\u001b[K\n",
            "Unpacking objects: 100% (7/7), 6.90 MiB | 14.09 MiB/s, done.\n",
            "/content/MLOPS\n",
            "/content/MLOPS/dev\n",
            "/content/MLOPS/dev\n",
            "Initialized empty Git repository in /content/MLOPS/dev/.git/\n",
            "Initialized DVC repository.\n",
            "\n",
            "You can now commit the changes to git.\n",
            "\n",
            "\u001b[31m+---------------------------------------------------------------------+\n",
            "\u001b[0m\u001b[31m|\u001b[0m                                                                     \u001b[31m|\u001b[0m\n",
            "\u001b[31m|\u001b[0m        DVC has enabled anonymous aggregate usage analytics.         \u001b[31m|\u001b[0m\n",
            "\u001b[31m|\u001b[0m     Read the analytics documentation (and how to opt-out) here:     \u001b[31m|\u001b[0m\n",
            "\u001b[31m|\u001b[0m             <\u001b[36mhttps://dvc.org/doc/user-guide/analytics\u001b[39m>              \u001b[31m|\u001b[0m\n",
            "\u001b[31m|\u001b[0m                                                                     \u001b[31m|\u001b[0m\n",
            "\u001b[31m+---------------------------------------------------------------------+\n",
            "\u001b[0m\n",
            "\u001b[33mWhat's next?\u001b[39m\n",
            "\u001b[33m------------\u001b[39m\n",
            "- Check out the documentation: <\u001b[36mhttps://dvc.org/doc\u001b[39m>\n",
            "- Get help and share ideas: <\u001b[36mhttps://dvc.org/chat\u001b[39m>\n",
            "- Star us on GitHub: <\u001b[36mhttps://github.com/iterative/dvc\u001b[39m>\n",
            "\u001b[0m"
          ]
        }
      ]
    },
    {
      "cell_type": "code",
      "source": [
        "# list all the files and folders\n",
        "!ls -a "
      ],
      "metadata": {
        "colab": {
          "base_uri": "https://localhost:8080/"
        },
        "id": "p4W9r46e_Bot",
        "outputId": "ef22d3e3-2892-4655-828e-b54b0234debb"
      },
      "execution_count": 36,
      "outputs": [
        {
          "output_type": "stream",
          "name": "stdout",
          "text": [
            ".  ..  .dvc  .dvcignore  .git\n"
          ]
        }
      ]
    },
    {
      "cell_type": "code",
      "source": [
        "!dvc get https://github.com/basaanithanaveenkumar/MLOPS data.zip \n",
        "!unzip data.zip"
      ],
      "metadata": {
        "colab": {
          "base_uri": "https://localhost:8080/"
        },
        "id": "IFyV7jWfAZb1",
        "outputId": "7711548e-9465-4aa2-b386-f79dda5530ee"
      },
      "execution_count": 37,
      "outputs": [
        {
          "output_type": "stream",
          "name": "stdout",
          "text": [
            "Downloading data.zip:   0% 0/1 [00:00<?, ?files/s{'info': ''}] \n",
            "!\u001b[A\n",
            "  0%|          |data.zip                           0.00/? [00:00<?,        ?B/s]\u001b[A\n",
            "Downloading data.zip: 100% 1/1 [00:00<00:00,  8.25files/s{'info': ''}]\n",
            "\u001b[0mArchive:  data.zip\n",
            "  inflating: devops/1 (1).jpeg       \n",
            "  inflating: devops/1 (10).jpeg      \n",
            "  inflating: devops/1 (11).jpeg      \n",
            "  inflating: devops/1 (12).jpeg      \n",
            "  inflating: devops/1 (13).jpeg      \n",
            "  inflating: devops/1 (14).jpeg      \n",
            "  inflating: devops/1 (15).jpeg      \n",
            "  inflating: devops/1 (16).jpeg      \n",
            "  inflating: devops/1 (17).jpeg      \n",
            "  inflating: devops/1 (18).jpeg      \n",
            "  inflating: devops/1 (19).jpeg      \n",
            "  inflating: devops/1 (2).jpeg       \n",
            "  inflating: devops/1 (20).jpeg      \n",
            "  inflating: devops/1 (21).jpeg      \n",
            "  inflating: devops/1 (22).jpeg      \n",
            "  inflating: devops/1 (23).jpeg      \n",
            "  inflating: devops/1 (24).jpeg      \n",
            "  inflating: devops/1 (25).jpeg      \n",
            "  inflating: devops/1 (26).jpeg      \n",
            "  inflating: devops/1 (27).jpeg      \n",
            "  inflating: devops/1 (28).jpeg      \n",
            "  inflating: devops/1 (29).jpeg      \n",
            "  inflating: devops/1 (3).jpeg       \n",
            "  inflating: devops/1 (4).jpeg       \n",
            "  inflating: devops/1 (5).jpeg       \n",
            "  inflating: devops/1 (6).jpeg       \n",
            "  inflating: devops/1 (7).jpeg       \n",
            "  inflating: devops/1 (8).jpeg       \n",
            "  inflating: devops/1 (9).jpeg       \n",
            "  inflating: mlops/2 (1).jpeg        \n",
            "  inflating: mlops/2 (1).jpg         \n",
            "  inflating: mlops/2 (10).jpeg       \n",
            "  inflating: mlops/2 (10).jpg        \n",
            "  inflating: mlops/2 (11).jpeg       \n",
            "  inflating: mlops/2 (11).jpg        \n",
            "  inflating: mlops/2 (12).jpeg       \n",
            "  inflating: mlops/2 (12).jpg        \n",
            "  inflating: mlops/2 (13).jpeg       \n",
            "  inflating: mlops/2 (13).jpg        \n",
            "  inflating: mlops/2 (14).jpeg       \n",
            "  inflating: mlops/2 (14).jpg        \n",
            "  inflating: mlops/2 (15).jpeg       \n",
            "  inflating: mlops/2 (15).jpg        \n",
            "  inflating: mlops/2 (16).jpeg       \n",
            "  inflating: mlops/2 (16).jpg        \n",
            "  inflating: mlops/2 (17).jpeg       \n",
            "  inflating: mlops/2 (17).jpg        \n",
            "  inflating: mlops/2 (18).jpeg       \n",
            "  inflating: mlops/2 (18).jpg        \n",
            "  inflating: mlops/2 (19).jpeg       \n",
            "  inflating: mlops/2 (19).jpg        \n",
            "  inflating: mlops/2 (2).jpeg        \n",
            "  inflating: mlops/2 (2).jpg         \n",
            "  inflating: mlops/2 (20).jpeg       \n",
            "  inflating: mlops/2 (20).jpg        \n",
            "  inflating: mlops/2 (21).jpeg       \n",
            "  inflating: mlops/2 (21).jpg        \n",
            "  inflating: mlops/2 (22).jpeg       \n",
            "  inflating: mlops/2 (22).jpg        \n",
            "  inflating: mlops/2 (23).jpeg       \n",
            "  inflating: mlops/2 (24).jpeg       \n",
            "  inflating: mlops/2 (25).jpeg       \n",
            "  inflating: mlops/2 (26).jpeg       \n",
            "  inflating: mlops/2 (27).jpeg       \n",
            "  inflating: mlops/2 (28).jpeg       \n",
            "  inflating: mlops/2 (29).jpeg       \n",
            "  inflating: mlops/2 (3).jpeg        \n",
            "  inflating: mlops/2 (3).jpg         \n",
            "  inflating: mlops/2 (30).jpeg       \n",
            "  inflating: mlops/2 (31).jpeg       \n",
            "  inflating: mlops/2 (32).jpeg       \n",
            "  inflating: mlops/2 (33).jpeg       \n",
            "  inflating: mlops/2 (4).jpeg        \n",
            "  inflating: mlops/2 (4).jpg         \n",
            "  inflating: mlops/2 (5).jpeg        \n",
            "  inflating: mlops/2 (5).jpg         \n",
            "  inflating: mlops/2 (6).jpeg        \n",
            "  inflating: mlops/2 (6).jpg         \n",
            "  inflating: mlops/2 (7).jpeg        \n",
            "  inflating: mlops/2 (7).jpg         \n",
            "  inflating: mlops/2 (8).jpeg        \n",
            "  inflating: mlops/2 (8).jpg         \n",
            "  inflating: mlops/2 (9).jpeg        \n",
            "  inflating: mlops/2 (9).jpg         \n"
          ]
        }
      ]
    },
    {
      "cell_type": "code",
      "source": [
        "#delete files\n",
        "!rm data.zip"
      ],
      "metadata": {
        "id": "nKdNnS9uDCZy"
      },
      "execution_count": 38,
      "outputs": []
    },
    {
      "cell_type": "code",
      "source": [
        "!dvc add devops\n",
        "!dvc add mlops"
      ],
      "metadata": {
        "colab": {
          "base_uri": "https://localhost:8080/"
        },
        "id": "c77kLySDEDPN",
        "outputId": "4aee30bb-8690-4b54-81f2-c100ff06db70"
      },
      "execution_count": 39,
      "outputs": [
        {
          "output_type": "stream",
          "name": "stdout",
          "text": [
            "\r!\rIf DVC froze, see `hardlink_lock` in <\u001b[36mhttps://man.dvc.org/config#core\u001b[39m>\r                                                                      \r\r!\rCollecting targets          |0.00 [00:00,     ?file/s]\r                                                      \r\u001b[?25l\u001b[32m⠋\u001b[0m Checking graph\n",
            "\u001b[?25h\r\u001b[1A\u001b[2K\rAdding...:   0% 0/1 [00:00<?, ?file/s]\rAdding...:   0% 0/1 [00:00<?, ?file/s{'info': ''}]\rAdding...:   0% 0/1 [00:00<?, ?file/s{'info': ''}]\n",
            "\r!\u001b[A\n",
            "\rBuilding data objects from devops          |0.00 [00:00,      ?obj/s]\u001b[A\n",
            "\r                                                                     \u001b[A\n",
            "\r!\u001b[A\n",
            "\rBuilding data objects from devops          |0.00 [00:00,      ?obj/s]\u001b[A\n",
            "\r                                                                     \u001b[A\n",
            "\r!\u001b[A\n",
            "\r  0% |          |0/? [00:00<?,    ?files/s]\u001b[A\n",
            "\r                                           \u001b[A\n",
            "\r!\u001b[A\n",
            "\r  0%|          |Transferring                          0/? [00:00<?,     ?file/s]\u001b[A\n",
            "\rTransferring:   0% 0/29 [00:00<?, ?file/s{'info': ''}]                          \u001b[A\n",
            "\r  0%|          |Transferring                   29/? [00:00<00:00, 4111.65file/s]\u001b[A\n",
            "\n",
            "\r!\u001b[A\u001b[A\n",
            "\n",
            "\r  0%|          |memory://.jnXHEpcEaA34sgRwjBFdQE.tm0.00/? [00:00<?,        ?B/s]\u001b[A\u001b[A\n",
            "\n",
            "\r  0% 0.00/2.00k [00:00<?, ?B/s{'info': ''}]                                     \u001b[A\u001b[A\n",
            "\n",
            "\r                                           \u001b[A\u001b[A\n",
            "\r                                                                                \u001b[A\n",
            "\r!\u001b[A\n",
            "\rBuilding data objects from devops          |0.00 [00:00,      ?obj/s]\u001b[A\n",
            "\r                                                                     \u001b[A\rAdding...: 100% 1/1 [00:00<00:00, 10.23file/s{'info': ''}]\n",
            "\n",
            "To track the changes with git, run:\n",
            "\n",
            "\tgit add .gitignore devops.dvc\n",
            "\n",
            "To enable auto staging, run:\n",
            "\n",
            "\tdvc config core.autostage true\n",
            "\u001b[2K\u001b[32m⠋\u001b[0m Checking graph\n",
            "Adding...:   0% 0/1 [00:00<?, ?file/s{'info': ''}]\n",
            "!\u001b[A\n",
            "Building data objects from mlops          |0.00 [00:00,      ?obj/s]\u001b[A\n",
            "                                                                    \u001b[A\n",
            "!\u001b[A\n",
            "Building data objects from mlops          |0.00 [00:00,      ?obj/s]\u001b[A\n",
            "                                                                    \u001b[A\n",
            "!\u001b[A\n",
            "  0% |          |0/? [00:00<?,    ?files/s]\u001b[A\n",
            "                                           \u001b[A\n",
            "!\u001b[A\n",
            "  0%|          |Transferring                          0/? [00:00<?,     ?file/s]\u001b[A\n",
            "Transferring:   0% 0/55 [00:00<?, ?file/s{'info': ''}]                          \u001b[A\n",
            "  0%|          |Transferring                   55/? [00:00<00:00, 4351.35file/s]\u001b[A\n",
            "\n",
            "!\u001b[A\u001b[A\n",
            "\n",
            "  0%|          |memory://.GcwkVQBTQfEBiD7PUhdaCj.tm0.00/? [00:00<?,        ?B/s]\u001b[A\u001b[A\n",
            "\n",
            "  0% 0.00/3.77k [00:00<?, ?B/s{'info': ''}]                                     \u001b[A\u001b[A\n",
            "\n",
            "                                           \u001b[A\u001b[A\n",
            "                                                                                \u001b[A\n",
            "!\u001b[A\n",
            "Building data objects from mlops          |0.00 [00:00,      ?obj/s]\u001b[A\n",
            "Adding...: 100% 1/1 [00:00<00:00,  6.33file/s{'info': ''}]\n",
            "\n",
            "To track the changes with git, run:\n",
            "\n",
            "\tgit add .gitignore mlops.dvc\n",
            "\n",
            "To enable auto staging, run:\n",
            "\n",
            "\tdvc config core.autostage true\n",
            "\u001b[0m"
          ]
        }
      ]
    },
    {
      "cell_type": "code",
      "source": [
        "!dvc status"
      ],
      "metadata": {
        "colab": {
          "base_uri": "https://localhost:8080/"
        },
        "id": "eIGu9BY8ELOS",
        "outputId": "f65fbd9a-4d13-4ef8-b54d-b101299e3c5e"
      },
      "execution_count": 40,
      "outputs": [
        {
          "output_type": "stream",
          "name": "stdout",
          "text": [
            "\r!\rIf DVC froze, see `hardlink_lock` in <\u001b[36mhttps://man.dvc.org/config#core\u001b[39m>\r                                                                      \r\r!\rBuilding data objects from mlops          |0.00 [00:00,      ?obj/s]\r                                                                    \r\r!\rBuilding data objects from devops          |0.00 [00:00,      ?obj/s]\r                                                                     \rData and pipelines are up to date.\n",
            "\u001b[0m"
          ]
        }
      ]
    },
    {
      "cell_type": "code",
      "source": [
        "!ls -l"
      ],
      "metadata": {
        "colab": {
          "base_uri": "https://localhost:8080/"
        },
        "id": "uw2QAWSWEU8F",
        "outputId": "d62ef6b7-b6bd-4306-a11a-5a9140ffc4a9"
      },
      "execution_count": 41,
      "outputs": [
        {
          "output_type": "stream",
          "name": "stdout",
          "text": [
            "total 16\n",
            "drwxr-xr-x 2 root root 4096 Jan 30 15:31 devops\n",
            "-rw-r--r-- 1 root root   93 Jan 30 15:31 devops.dvc\n",
            "drwxr-xr-x 2 root root 4096 Jan 30 15:31 mlops\n",
            "-rw-r--r-- 1 root root   93 Jan 30 15:31 mlops.dvc\n"
          ]
        }
      ]
    },
    {
      "cell_type": "code",
      "source": [
        "%cd /content/MLOPS/\n",
        "!git add dev/devops.dvc\n",
        "!git add dev/mlops.dvc"
      ],
      "metadata": {
        "colab": {
          "base_uri": "https://localhost:8080/"
        },
        "id": "XWfWCRmtFcKd",
        "outputId": "566b1bcc-ddbd-4a87-814f-8f9b85f31c35"
      },
      "execution_count": 44,
      "outputs": [
        {
          "output_type": "stream",
          "name": "stdout",
          "text": [
            "/content/MLOPS\n"
          ]
        }
      ]
    },
    {
      "cell_type": "code",
      "source": [
        "!git commit -m \"added Dataset\"\n",
        "#!git tag -a test -m \" test 1\""
      ],
      "metadata": {
        "colab": {
          "base_uri": "https://localhost:8080/"
        },
        "id": "FGoiWAZvFnam",
        "outputId": "9bd64be0-0f05-4043-daa9-de45869ea80f"
      },
      "execution_count": 51,
      "outputs": [
        {
          "output_type": "stream",
          "name": "stdout",
          "text": [
            "\n",
            "*** Please tell me who you are.\n",
            "\n",
            "Run\n",
            "\n",
            "  git config --global user.email \"you@example.com\"\n",
            "  git config --global user.name \"Your Name\"\n",
            "\n",
            "to set your account's default identity.\n",
            "Omit --global to set the identity only in this repository.\n",
            "\n",
            "fatal: unable to auto-detect email address (got 'root@d39d0dbecb3d.(none)')\n"
          ]
        }
      ]
    },
    {
      "cell_type": "code",
      "source": [
        "!dvc remote add -d "
      ],
      "metadata": {
        "id": "ysnSVk6YF3yX"
      },
      "execution_count": null,
      "outputs": []
    },
    {
      "cell_type": "code",
      "source": [
        "%cd dev"
      ],
      "metadata": {
        "colab": {
          "base_uri": "https://localhost:8080/"
        },
        "id": "wXJKms2BHVz3",
        "outputId": "edc6e5ec-66d3-4559-bb85-232ce04118d1"
      },
      "execution_count": 48,
      "outputs": [
        {
          "output_type": "stream",
          "name": "stdout",
          "text": [
            "/content/MLOPS/dev\n"
          ]
        }
      ]
    },
    {
      "cell_type": "code",
      "source": [
        "!ls -a"
      ],
      "metadata": {
        "colab": {
          "base_uri": "https://localhost:8080/"
        },
        "id": "Zg3fCegnHT5_",
        "outputId": "a7eaac5b-13aa-4366-95d7-ed98ec4dc1fb"
      },
      "execution_count": 49,
      "outputs": [
        {
          "output_type": "stream",
          "name": "stdout",
          "text": [
            ".  ..  devops  devops.dvc  .dvc  .dvcignore  .git  .gitignore  mlops  mlops.dvc\n"
          ]
        }
      ]
    },
    {
      "cell_type": "code",
      "source": [
        "!dvc status"
      ],
      "metadata": {
        "colab": {
          "base_uri": "https://localhost:8080/"
        },
        "id": "tNbJw6t0HaIP",
        "outputId": "d51678d9-ed48-40f9-d745-d6319c6d8b72"
      },
      "execution_count": 52,
      "outputs": [
        {
          "output_type": "stream",
          "name": "stdout",
          "text": [
            "\r!\rIf DVC froze, see `hardlink_lock` in <\u001b[36mhttps://man.dvc.org/config#core\u001b[39m>\r                                                                      \r\r!\rBuilding data objects from mlops          |0.00 [00:00,      ?obj/s]\r                                                                    \r\r!\rBuilding data objects from devops          |0.00 [00:00,      ?obj/s]\r                                                                     \rData and pipelines are up to date.\n",
            "\u001b[0m"
          ]
        }
      ]
    },
    {
      "cell_type": "code",
      "source": [],
      "metadata": {
        "id": "8ULeUxvZHwjt"
      },
      "execution_count": null,
      "outputs": []
    }
  ]
}